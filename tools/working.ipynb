{
 "cells": [
  {
   "cell_type": "markdown",
   "metadata": {},
   "source": [
    "## Working doc\n",
    "Transfer functions to tools.py, when completed"
   ]
  },
  {
   "cell_type": "code",
   "execution_count": 35,
   "metadata": {},
   "outputs": [],
   "source": [
    "\n",
    "#general packages\n",
    "import os\n",
    "import json\n",
    "import glob\n",
    "import asyncio\n",
    "import requests\n",
    "import nest_asyncio\n",
    "import matplotlib.pyplot as plt\n",
    "from requests.auth import HTTPBasicAuth\n",
    "from datetime import datetime, timedelta\n",
    "\n",
    "#geospatial packages\n",
    "import rasterio\n",
    "import geopandas as gpd\n",
    "from shapely.geometry import shape, Point, mapping\n",
    "from shapely.geometry import shape, Point\n",
    "from shapely import wkt\n",
    "from shapely.ops import unary_union\n",
    "\n",
    "#planet SDK\n",
    "from planet import Auth, reporting, Session, OrdersClient, order_request, data_filter\n"
   ]
  },
  {
   "cell_type": "markdown",
   "metadata": {},
   "source": [
    "Here, you will paste your API Key when prompted. It will be used to authenticate when ordering data.\n",
    "\n",
    "Be sure to go to **Edit>Clear all outputs** to clear the console output that results, before sharing this notebook, or uploading it to a public repository, such as GitHub.\n",
    "\n",
    "Additionally, regularly resetting your API Key on Planet.com can help keep your account and access secure.\n",
    "\n",
    "You can also authenticate via the CLI using [`auth init`](https://planet-sdk-for-python-v2.readthedocs.io/en/latest/cli/cli-reference/?h=auth#auth:~:text=message%20and%20exit.-,auth,-%C2%B6), this will store your API key as an environment variable."
   ]
  },
  {
   "cell_type": "markdown",
   "metadata": {},
   "source": [
    "## Append Esri Imagery Dates\n",
    "\n",
    "A function to query Esri's World ImageryCitations layer for the acquisition dates of the source imagery used create feature annotations.\n",
    "\n",
    "The function should accept:\n",
    "\n",
    "* `service_url`: the current url for the Esri World Imagery Service\n",
    "* `geojson_features`: valid geojson file containing the target features\n",
    "* `zoom_level`: the zoom level used to query the imagery service citations, since imagery sources change at different zoom levels. THis should be expressed in typical web mercator zoom levels.\n",
    "* `output_path`: the path and filename of the output geojson file\n",
    "\n",
    "`append_imagery_dates(service_url, geojson_features, zoom_level, output_path)`\n",
    "\n",
    "The function should return a geojson file as `./output/{geojson_features}_appended.geojson` with all `FIELDS:values` for the Citations layer features that contain the centroid of each of the `geojson_features`, appended as new properties."
   ]
  },
  {
   "cell_type": "code",
   "execution_count": 25,
   "metadata": {},
   "outputs": [],
   "source": [
    "\n",
    "def append_imagery_dates(service_url, geojson_features, zoom_level, output_path):\n",
    "    # Define the Citations layer URL\n",
    "    citations_layer_url = f\"{service_url}/{zoom_level}/query\"\n",
    "\n",
    "    # Load the GeoJSON features\n",
    "    with open(geojson_features, 'r') as f:\n",
    "        geojson_data = json.load(f)\n",
    "\n",
    "    total_features = len(geojson_data['features'])\n",
    "    processed_count = 0\n",
    "    last_reported_progress = 0\n",
    "\n",
    "    # Iterate over each feature to query the Citations layer\n",
    "    for i, feature in enumerate(geojson_data['features']):\n",
    "        geometry = feature.get('geometry')\n",
    "        if geometry is None:\n",
    "            print(f\"Skipping feature {i} due to missing geometry.\")\n",
    "            continue\n",
    "\n",
    "        processed_count += 1  # Increment processed count for valid geometries\n",
    "\n",
    "        # Get the centroid of the feature\n",
    "        geometry = shape(geometry)\n",
    "        centroid = geometry.centroid\n",
    "\n",
    "        # Define the parameters for the query\n",
    "        params = {\n",
    "            \"f\": \"json\",  # Output format\n",
    "            \"geometryType\": \"esriGeometryPoint\",  # We are using the centroid (point)\n",
    "            \"spatialRel\": \"esriSpatialRelIntersects\",  # Spatial relationship\n",
    "            \"returnGeometry\": \"false\",  # We only need attributes\n",
    "            \"outFields\": \"*\",  # Retrieve all fields\n",
    "            \"geometry\": json.dumps({\n",
    "                \"x\": centroid.x,\n",
    "                \"y\": centroid.y,\n",
    "                \"spatialReference\": {\"wkid\": 4326}\n",
    "            }),\n",
    "            \"inSR\": \"4326\",  # Input spatial reference (WGS84)\n",
    "        }\n",
    "\n",
    "        # Send the request to the ArcGIS service\n",
    "        response = requests.get(citations_layer_url, params=params)\n",
    "\n",
    "        # Check for successful response\n",
    "        if response.status_code == 200:\n",
    "            data = response.json()\n",
    "            # If features are found, append the citation attributes to the GeoJSON feature\n",
    "            if 'features' in data and len(data['features']) > 0:\n",
    "                for field, value in data['features'][0]['attributes'].items():\n",
    "                    feature['properties'][field] = value\n",
    "        else:\n",
    "            print(f\"Error querying service: {response.status_code}, {response.text}\")\n",
    "\n",
    "        # Calculate and report progress in 10% increments\n",
    "        progress = int((processed_count / total_features) * 100)\n",
    "        if progress >= last_reported_progress + 10:\n",
    "            last_reported_progress = (progress // 10) * 10\n",
    "            print(f\"{last_reported_progress}...\", end=\"\", flush=True)\n",
    "    \n",
    "    # Print completion message\n",
    "    print(\"100 - done.\")\n",
    "\n",
    "    # Output the modified GeoJSON to the specified path\n",
    "    os.makedirs(os.path.dirname(output_path), exist_ok=True)\n",
    "    with open(output_path, 'w') as f:\n",
    "        json.dump(geojson_data, f, indent=2)\n",
    "    \n",
    "    print(f\"Output saved to {output_path}\")\n"
   ]
  },
  {
   "cell_type": "code",
   "execution_count": null,
   "metadata": {},
   "outputs": [],
   "source": [
    "# Example usage\n",
    "append_imagery_dates(\n",
    "    service_url=\"https://services.arcgisonline.com/arcgis/rest/services/World_Imagery/MapServer\",\n",
    "    geojson_features=\"../data/village_points_esri_imagery_08092024.geojson\",\n",
    "    zoom_level=14,\n",
    "    output_path=\"../output/appended_features.geojson\")"
   ]
  },
  {
   "cell_type": "markdown",
   "metadata": {},
   "source": [
    "## check_distinct_dates(geojson_features, output_path) \n",
    "\n",
    "Checks the output of `append_imagery_dates()` to determine the number of distinct values in the `SRC_DATE` property. The function then writes these distinct dates to a `appended_features_distinct_dates.json` file.\n",
    "\n",
    "\n",
    "\n",
    "- **Extracting `SRC_DATE` Values**: The function iterates through all features in the provided GeoJSON file, extracting the `SRC_DATE` values.\n",
    "- **Using a Set**: A set is used to automatically filter out duplicate `SRC_DATE` values, ensuring only distinct dates are recorded.\n",
    "- **Saving Output**: The distinct dates are saved as a sorted list in a `appended_features_distinct_dates.json` file in the specified output path.\n",
    "- **Output**: The JSON output contains both the list of distinct dates and a count of how many distinct dates were found.\n",
    "\n",
    "### Usage:\n",
    "\n",
    "- After running the `append_imagery_dates()` function, you can use `check_distinct_dates()` to generate a file listing all distinct `SRC_DATE` values.\n",
    "- The resulting `appended_features_distinct_dates.json` will be stored in the `output_path` directory.\n",
    "\n",
    "```python\n",
    "# Example usage\n",
    "check_distinct_dates(\n",
    "    geojson_features=\"../output/appended_features.geojson\",\n",
    "    output_path=\"../output\"\n",
    ")\n",
    "```"
   ]
  },
  {
   "cell_type": "code",
   "execution_count": 27,
   "metadata": {},
   "outputs": [],
   "source": [
    "\n",
    "\n",
    "def check_distinct_dates(geojson_features, output_path):\n",
    "    # Load the GeoJSON features\n",
    "    with open(geojson_features, 'r') as f:\n",
    "        geojson_data = json.load(f)\n",
    "\n",
    "    # Extract SRC_DATE values\n",
    "    src_dates = set()  # Use a set to automatically handle distinct values\n",
    "    for feature in geojson_data['features']:\n",
    "        src_date = feature['properties'].get('SRC_DATE')\n",
    "        if src_date:\n",
    "            src_dates.add(src_date)\n",
    "\n",
    "    # Convert the set to a sorted list\n",
    "    distinct_dates = sorted(list(src_dates))\n",
    "\n",
    "    # Prepare the output data\n",
    "    output_data = {\n",
    "        \"distinct_dates\": distinct_dates,\n",
    "        \"count\": len(distinct_dates)\n",
    "    }\n",
    "\n",
    "    # Define the output file path\n",
    "    output_file = os.path.join(output_path, \"appended_features_distinct_dates.json\")\n",
    "\n",
    "    # Save the distinct dates to the output file\n",
    "    os.makedirs(os.path.dirname(output_file), exist_ok=True)\n",
    "    with open(output_file, 'w') as f:\n",
    "        json.dump(output_data, f, indent=2)\n",
    "\n",
    "    print(f\"Distinct dates output saved to {output_file}\")\n",
    "\n"
   ]
  },
  {
   "cell_type": "code",
   "execution_count": 28,
   "metadata": {},
   "outputs": [
    {
     "name": "stdout",
     "output_type": "stream",
     "text": [
      "Distinct dates output saved to ../output/appended_features_distinct_dates.json\n"
     ]
    }
   ],
   "source": [
    "# Example usage\n",
    "check_distinct_dates(\n",
    "    geojson_features=\"../output/appended_features.geojson\",\n",
    "    output_path=\"../output\"\n",
    ")\n"
   ]
  },
  {
   "cell_type": "markdown",
   "metadata": {},
   "source": [
    "## Planet Authentication\n",
    "\n",
    "Here, you will paste your API Key when prompted. It will be used to authenticate when ordering data.\n",
    "\n",
    "Be sure to go to **Edit>Clear all outputs** to clear the console output that results, before sharing this notebook, or uploading it to a public repository, such as GitHub.\n",
    "\n",
    "Additionally, regularly resetting your API Key on Planet.com can help keep your account and access secure.\n",
    "\n",
    "You can also authenticate via the CLI using [`auth init`](https://planet-sdk-for-python-v2.readthedocs.io/en/latest/cli/cli-reference/?h=auth#auth:~:text=message%20and%20exit.-,auth,-%C2%B6), this will store your API key as an environment variable."
   ]
  },
  {
   "cell_type": "code",
   "execution_count": 32,
   "metadata": {},
   "outputs": [],
   "source": [
    "def planet_auth():\n",
    "    # Check if the Planet API Key is set as an environment variable\n",
    "    if 'PL_API_KEY' in os.environ:\n",
    "        API_KEY = os.environ['PL_API_KEY']\n",
    "    else:\n",
    "        API_KEY = input(\"PASTE_API_KEY_HERE AND HIT RETURN:   \")\n",
    "        os.environ['PL_API_KEY'] = API_KEY\n",
    "\n",
    "    # Authenticate with the Planet API\n",
    "    client = Auth.from_key(API_KEY)\n",
    "    \n",
    "    return client\n",
    "\n",
    "# Example usage\n",
    "client = planet_auth()\n"
   ]
  },
  {
   "cell_type": "markdown",
   "metadata": {},
   "source": [
    "## `create_aoi` function \n",
    "\n",
    " creates a minimum bounding geometry for the features from the `geojson_features` and writes the resulting AOI (Area of Interest) to an `aoi.geojson` file at the specified `output_path`.\n",
    "\n",
    "### Key Points:\n",
    "\n",
    "- **Loading GeoJSON Features**: The function starts by loading the input GeoJSON file.\n",
    "- **Geometry Collection**: It collects all valid geometries from the features.\n",
    "- **Minimum Bounding Geometry**: Using `shapely.ops.unary_union`, it combines all the geometries into one, and then computes the minimum bounding geometry (convex hull) that contains all the geometries.\n",
    "- **Output GeoJSON**: The function creates a new GeoJSON structure with the bounding geometry and saves it as `aoi.geojson` in the specified `output_path`.\n",
    "- **Error Handling**: If no valid geometries are found in the input, the function raises a `ValueError`.\n",
    "\n",
    "### Usage:\n",
    "\n",
    "- Run the `create_aoi()` function with the paths to your input GeoJSON file and the desired output directory.\n",
    "- The function will generate an `aoi.geojson` file containing the minimum bounding geometry for all the features in your input GeoJSON.\n"
   ]
  },
  {
   "cell_type": "code",
   "execution_count": 36,
   "metadata": {},
   "outputs": [],
   "source": [
    "def create_aoi(geojson_features, output_path):\n",
    "    # Load the GeoJSON features\n",
    "    with open(geojson_features, 'r') as f:\n",
    "        geojson_data = json.load(f)\n",
    "\n",
    "    # Collect all geometries from the features\n",
    "    geometries = [shape(feature['geometry']) for feature in geojson_data['features'] if feature.get('geometry')]\n",
    "\n",
    "    # Create a union of all geometries and calculate the minimum bounding geometry (convex hull)\n",
    "    if geometries:\n",
    "        combined_geometry = unary_union(geometries)\n",
    "        bounding_geometry = combined_geometry.convex_hull\n",
    "    else:\n",
    "        raise ValueError(\"No valid geometries found in the input GeoJSON.\")\n",
    "\n",
    "    # Create the output GeoJSON structure\n",
    "    aoi_geojson = {\n",
    "        \"type\": \"FeatureCollection\",\n",
    "        \"features\": [\n",
    "            {\n",
    "                \"type\": \"Feature\",\n",
    "                \"geometry\": mapping(bounding_geometry),\n",
    "                \"properties\": {}\n",
    "            }\n",
    "        ]\n",
    "    }\n",
    "\n",
    "    # Define the output file path\n",
    "    output_file = os.path.join(output_path, \"aoi.geojson\")\n",
    "\n",
    "    # Save the AOI to the output file\n",
    "    os.makedirs(os.path.dirname(output_file), exist_ok=True)\n",
    "    with open(output_file, 'w') as f:\n",
    "        json.dump(aoi_geojson, f, indent=2)\n",
    "\n",
    "    print(f\"AOI saved to {output_file}\")\n",
    "\n"
   ]
  },
  {
   "cell_type": "code",
   "execution_count": 37,
   "metadata": {},
   "outputs": [
    {
     "name": "stdout",
     "output_type": "stream",
     "text": [
      "AOI saved to ../output/aoi.geojson\n"
     ]
    }
   ],
   "source": [
    "# Example usage\n",
    "create_aoi(\n",
    "    geojson_features=\"../output/appended_features.geojson\",\n",
    "    output_path=\"../output\"\n",
    ")"
   ]
  }
 ],
 "metadata": {
  "kernelspec": {
   "display_name": "gdal-env",
   "language": "python",
   "name": "python3"
  },
  "language_info": {
   "codemirror_mode": {
    "name": "ipython",
    "version": 3
   },
   "file_extension": ".py",
   "mimetype": "text/x-python",
   "name": "python",
   "nbconvert_exporter": "python",
   "pygments_lexer": "ipython3",
   "version": "3.11.8"
  }
 },
 "nbformat": 4,
 "nbformat_minor": 2
}

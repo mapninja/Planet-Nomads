{
 "cells": [
  {
   "cell_type": "markdown",
   "metadata": {},
   "source": [
    "## Working doc\n",
    "Transfer functions to tools.py, when completed"
   ]
  },
  {
   "cell_type": "code",
   "execution_count": 1,
   "metadata": {},
   "outputs": [],
   "source": [
    "import requests\n",
    "import json\n",
    "from shapely.geometry import shape, Point\n",
    "from shapely import wkt\n",
    "import os"
   ]
  },
  {
   "cell_type": "markdown",
   "metadata": {},
   "source": [
    "## Append Esri Imagery Dates\n",
    "\n",
    "A function to query Esri's World ImageryCitations layer for the acquisition dates of the source imagery used create feature annotations.\n",
    "\n",
    "The function should accept:\n",
    "\n",
    "* `service_url`: the current url for the Esri World Imagery Service\n",
    "* `geojson_features`: valid geojson file containing the target features\n",
    "* `zoom_level`: the zoom level used to query the imagery service citations, since imagery sources change at different zoom levels. THis should be expressed in typical web mercator zoom levels.\n",
    "* `output_path`: the path and filename of the output geojson file\n",
    "\n",
    "`append_imagery_dates(service_url, geojson_features, zoom_level, output_path)`\n",
    "\n",
    "The function should return a geojson file as `./output/{geojson_features}_appended.geojson` with all `FIELDS:values` for the Citations layer features that contain the centroid of each of the `geojson_features`, appended as new properties."
   ]
  },
  {
   "cell_type": "code",
   "execution_count": 25,
   "metadata": {},
   "outputs": [],
   "source": [
    "\n",
    "def append_imagery_dates(service_url, geojson_features, zoom_level, output_path):\n",
    "    # Define the Citations layer URL\n",
    "    citations_layer_url = f\"{service_url}/{zoom_level}/query\"\n",
    "\n",
    "    # Load the GeoJSON features\n",
    "    with open(geojson_features, 'r') as f:\n",
    "        geojson_data = json.load(f)\n",
    "\n",
    "    total_features = len(geojson_data['features'])\n",
    "    processed_count = 0\n",
    "    last_reported_progress = 0\n",
    "\n",
    "    # Iterate over each feature to query the Citations layer\n",
    "    for i, feature in enumerate(geojson_data['features']):\n",
    "        geometry = feature.get('geometry')\n",
    "        if geometry is None:\n",
    "            print(f\"Skipping feature {i} due to missing geometry.\")\n",
    "            continue\n",
    "\n",
    "        processed_count += 1  # Increment processed count for valid geometries\n",
    "\n",
    "        # Get the centroid of the feature\n",
    "        geometry = shape(geometry)\n",
    "        centroid = geometry.centroid\n",
    "\n",
    "        # Define the parameters for the query\n",
    "        params = {\n",
    "            \"f\": \"json\",  # Output format\n",
    "            \"geometryType\": \"esriGeometryPoint\",  # We are using the centroid (point)\n",
    "            \"spatialRel\": \"esriSpatialRelIntersects\",  # Spatial relationship\n",
    "            \"returnGeometry\": \"false\",  # We only need attributes\n",
    "            \"outFields\": \"*\",  # Retrieve all fields\n",
    "            \"geometry\": json.dumps({\n",
    "                \"x\": centroid.x,\n",
    "                \"y\": centroid.y,\n",
    "                \"spatialReference\": {\"wkid\": 4326}\n",
    "            }),\n",
    "            \"inSR\": \"4326\",  # Input spatial reference (WGS84)\n",
    "        }\n",
    "\n",
    "        # Send the request to the ArcGIS service\n",
    "        response = requests.get(citations_layer_url, params=params)\n",
    "\n",
    "        # Check for successful response\n",
    "        if response.status_code == 200:\n",
    "            data = response.json()\n",
    "            # If features are found, append the citation attributes to the GeoJSON feature\n",
    "            if 'features' in data and len(data['features']) > 0:\n",
    "                for field, value in data['features'][0]['attributes'].items():\n",
    "                    feature['properties'][field] = value\n",
    "        else:\n",
    "            print(f\"Error querying service: {response.status_code}, {response.text}\")\n",
    "\n",
    "        # Calculate and report progress in 10% increments\n",
    "        progress = int((processed_count / total_features) * 100)\n",
    "        if progress >= last_reported_progress + 10:\n",
    "            last_reported_progress = (progress // 10) * 10\n",
    "            print(f\"{last_reported_progress}...\", end=\"\", flush=True)\n",
    "    \n",
    "    # Print completion message\n",
    "    print(\"100 - done.\")\n",
    "\n",
    "    # Output the modified GeoJSON to the specified path\n",
    "    os.makedirs(os.path.dirname(output_path), exist_ok=True)\n",
    "    with open(output_path, 'w') as f:\n",
    "        json.dump(geojson_data, f, indent=2)\n",
    "    \n",
    "    print(f\"Output saved to {output_path}\")\n"
   ]
  },
  {
   "cell_type": "code",
   "execution_count": 26,
   "metadata": {},
   "outputs": [
    {
     "name": "stdout",
     "output_type": "stream",
     "text": [
      "10...20...30...40...50...60...70...80...Skipping feature 43 due to missing geometry.\n",
      "90...100 - done.\n",
      "Output saved to ../output/appended_features.geojson\n"
     ]
    }
   ],
   "source": [
    "# Example usage\n",
    "append_imagery_dates(\n",
    "    service_url=\"https://services.arcgisonline.com/arcgis/rest/services/World_Imagery/MapServer\",\n",
    "    geojson_features=\"../data/village_points_esri_imagery_08092024.geojson\",\n",
    "    zoom_level=14,\n",
    "    output_path=\"../output/appended_features.geojson\")"
   ]
  },
  {
   "cell_type": "markdown",
   "metadata": {},
   "source": []
  },
  {
   "cell_type": "code",
   "execution_count": 27,
   "metadata": {},
   "outputs": [],
   "source": [
    "\n",
    "\n",
    "def check_distinct_dates(geojson_features, output_path):\n",
    "    # Load the GeoJSON features\n",
    "    with open(geojson_features, 'r') as f:\n",
    "        geojson_data = json.load(f)\n",
    "\n",
    "    # Extract SRC_DATE values\n",
    "    src_dates = set()  # Use a set to automatically handle distinct values\n",
    "    for feature in geojson_data['features']:\n",
    "        src_date = feature['properties'].get('SRC_DATE')\n",
    "        if src_date:\n",
    "            src_dates.add(src_date)\n",
    "\n",
    "    # Convert the set to a sorted list\n",
    "    distinct_dates = sorted(list(src_dates))\n",
    "\n",
    "    # Prepare the output data\n",
    "    output_data = {\n",
    "        \"distinct_dates\": distinct_dates,\n",
    "        \"count\": len(distinct_dates)\n",
    "    }\n",
    "\n",
    "    # Define the output file path\n",
    "    output_file = os.path.join(output_path, \"appended_features_distinct_dates.json\")\n",
    "\n",
    "    # Save the distinct dates to the output file\n",
    "    os.makedirs(os.path.dirname(output_file), exist_ok=True)\n",
    "    with open(output_file, 'w') as f:\n",
    "        json.dump(output_data, f, indent=2)\n",
    "\n",
    "    print(f\"Distinct dates output saved to {output_file}\")\n",
    "\n"
   ]
  },
  {
   "cell_type": "code",
   "execution_count": 28,
   "metadata": {},
   "outputs": [
    {
     "name": "stdout",
     "output_type": "stream",
     "text": [
      "Distinct dates output saved to ../output/appended_features_distinct_dates.json\n"
     ]
    }
   ],
   "source": [
    "# Example usage\n",
    "check_distinct_dates(\n",
    "    geojson_features=\"../output/appended_features.geojson\",\n",
    "    output_path=\"../output\"\n",
    ")\n"
   ]
  }
 ],
 "metadata": {
  "kernelspec": {
   "display_name": "gdal-env",
   "language": "python",
   "name": "python3"
  },
  "language_info": {
   "codemirror_mode": {
    "name": "ipython",
    "version": 3
   },
   "file_extension": ".py",
   "mimetype": "text/x-python",
   "name": "python",
   "nbconvert_exporter": "python",
   "pygments_lexer": "ipython3",
   "version": "3.11.8"
  }
 },
 "nbformat": 4,
 "nbformat_minor": 2
}
